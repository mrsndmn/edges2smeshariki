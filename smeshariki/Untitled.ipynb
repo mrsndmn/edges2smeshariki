{
 "cells": [
  {
   "cell_type": "code",
   "execution_count": 6,
   "metadata": {},
   "outputs": [
    {
     "name": "stdout",
     "output_type": "stream",
     "text": [
      "-rw-r--r--. 1 d.tarasov d.tarasov 70110 янв 14 01:09 nusha/1.webp\r\n"
     ]
    }
   ],
   "source": [
    "!ls -l nusha/1.webp"
   ]
  },
  {
   "cell_type": "code",
   "execution_count": 7,
   "metadata": {},
   "outputs": [],
   "source": [
    "import cv2"
   ]
  },
  {
   "cell_type": "code",
   "execution_count": 31,
   "metadata": {},
   "outputs": [],
   "source": [
    "import numpy as np\n",
    "import argparse\n",
    "import glob\n",
    "import cv2\n",
    "import matplotlib.pyplot as plt\n",
    "\n",
    "def auto_canny(image, sigma=0.33, v=255):\n",
    "\t# compute the median of the single channel pixel intensities\n",
    "# \tv = np.median(image)\n",
    "\t# apply automatic Canny edge detection using the computed median\n",
    "\tgray = cv2.cvtColor(image, cv2.COLOR_BGR2GRAY)\n",
    "\tblurred = cv2.GaussianBlur(gray, (3, 3), 0)\n",
    "\n",
    "\tedged = cv2.Canny(blurred, 10, 250)\n",
    "\t# return the edged image\n",
    "\treturn edged"
   ]
  },
  {
   "cell_type": "code",
   "execution_count": 34,
   "metadata": {},
   "outputs": [
    {
     "data": {
      "text/plain": [
       "(1666, 1665)"
      ]
     },
     "execution_count": 34,
     "metadata": {},
     "output_type": "execute_result"
    }
   ],
   "source": [
    "auto_canny(cv2.imread('nusha/1.webp')).shape"
   ]
  },
  {
   "cell_type": "code",
   "execution_count": 44,
   "metadata": {},
   "outputs": [],
   "source": [
    "import os\n",
    "\n",
    "for i, imgdir in enumerate(glob.glob(\"./*\")):\n",
    "    imgdir += \"/\"\n",
    "    for i, imagePath in enumerate(glob.glob(imgdir + \"/*\")):\n",
    "        orig_image = cv2.imread(imagePath)\n",
    "        cv2.imwrite(imgdir + str(i) + \".jpg\", orig_image)\n",
    "        os.remove(imagePath)"
   ]
  },
  {
   "attachments": {},
   "cell_type": "markdown",
   "metadata": {},
   "source": []
  }
 ],
 "metadata": {
  "kernelspec": {
   "display_name": "Python 3",
   "language": "python",
   "name": "python3"
  },
  "language_info": {
   "codemirror_mode": {
    "name": "ipython",
    "version": 3
   },
   "file_extension": ".py",
   "mimetype": "text/x-python",
   "name": "python",
   "nbconvert_exporter": "python",
   "pygments_lexer": "ipython3",
   "version": "3.8.3"
  }
 },
 "nbformat": 4,
 "nbformat_minor": 4
}
